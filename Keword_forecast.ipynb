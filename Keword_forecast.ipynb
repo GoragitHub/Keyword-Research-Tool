{ 
 "cells": [
  {
   "cell_type": "code",
   "execution_count": 3,
   "metadata": {},
   "outputs": [
    {
     "data": {
      "text/html": [
       "<div>\n",
       "<style scoped>\n",
       "    .dataframe tbody tr th:only-of-type {\n",
       "        vertical-align: middle;\n",
       "    }\n",
       "\n",
       "    .dataframe tbody tr th {\n",
       "        vertical-align: top;\n",
       "    }\n",
       "\n",
       "    .dataframe thead th {\n",
       "        text-align: right;\n",
       "    }\n",
       "</style>\n",
       "<table border=\"1\" class=\"dataframe\">\n",
       "  <thead>\n",
       "    <tr style=\"text-align: right;\">\n",
       "      <th></th>\n",
       "      <th>Text</th>\n",
       "      <th>Avg Monthly Searches</th>\n",
       "    </tr>\n",
       "  </thead>\n",
       "  <tbody>\n",
       "    <tr>\n",
       "      <th>0</th>\n",
       "      <td>python</td>\n",
       "      <td>22200</td>\n",
       "    </tr>\n",
       "    <tr>\n",
       "      <th>1</th>\n",
       "      <td>java</td>\n",
       "      <td>9900</td>\n",
       "    </tr>\n",
       "    <tr>\n",
       "      <th>2</th>\n",
       "      <td>javascripts</td>\n",
       "      <td>12100</td>\n",
       "    </tr>\n",
       "    <tr>\n",
       "      <th>3</th>\n",
       "      <td>react js</td>\n",
       "      <td>2900</td>\n",
       "    </tr>\n",
       "    <tr>\n",
       "      <th>4</th>\n",
       "      <td>learn python</td>\n",
       "      <td>1900</td>\n",
       "    </tr>\n",
       "  </tbody>\n",
       "</table>\n",
       "</div>"
      ],
      "text/plain": [
       "           Text  Avg Monthly Searches\n",
       "0        python                 22200\n",
       "1          java                  9900\n",
       "2   javascripts                 12100\n",
       "3      react js                  2900\n",
       "4  learn python                  1900"
      ]
     },
     "execution_count": 3,
     "metadata": {},
     "output_type": "execute_result"
    }
   ],
   "source": [
    "import pandas as pd\n",
    "df=pd.read_csv(\"keyword_ideas.csv\")\n",
    "df.head()"
   ]
  },
  {
   "cell_type": "code",
   "execution_count": 4,
   "metadata": {},
   "outputs": [],
   "source": [
    "data = {\n",
    "    \"JANUARY\": 10, \"FEBRUARY\": 0, \"MARCH\": 10, \"APRIL\": 10,\n",
    "    \"MAY\": 0, \"JUNE\": 0, \"JULY\": 0, \"AUGUST\": 0,\n",
    "    \"SEPTEMBER\": 0, \"OCTOBER\": 0, \"NOVEMBER\": 0, \"DECEMBER\": 0\n",
    "}"
   ]
  },
  {
   "cell_type": "code",
   "execution_count": 7,
   "metadata": {},
   "outputs": [
    {
     "name": "stdout",
     "output_type": "stream",
     "text": [
      "        Month  Value\n",
      "0     JANUARY     10\n",
      "1    FEBRUARY      0\n",
      "2       MARCH     10\n",
      "3       APRIL     10\n",
      "4         MAY      0\n",
      "5        JUNE      0\n",
      "6        JULY      0\n",
      "7      AUGUST      0\n",
      "8   SEPTEMBER      0\n",
      "9     OCTOBER      0\n",
      "10   NOVEMBER      0\n",
      "11   DECEMBER      0\n"
     ]
    }
   ],
   "source": [
    "df = pd.DataFrame(list(data.items()), columns=[\"Month\", \"Value\"])\n",
    "print(df)"
   ]
  },
  {
   "cell_type": "code",
   "execution_count": 36,
   "metadata": {},
   "outputs": [
    {
     "name": "stdout",
     "output_type": "stream",
     "text": [
      "Forecasted value for the next month: 23\n"
     ]
    }
   ],
   "source": [
    "import numpy as np\n",
    "import pandas as pd\n",
    "from statsmodels.tsa.arima.model import ARIMA\n",
    "# text:\"webpack reactjs\",\"avg_monthly_searches\":40\n",
    "# Given data\n",
    "data = {\n",
    "    \"JANUARY\": 40, \"FEBRUARY\": 50, \"MARCH\": 50, \"APRIL\": 40,\n",
    "    \"MAY\": 40, \"JUNE\": 40, \"JULY\": 30, \"AUGUST\": 40,\n",
    "    \"SEPTEMBER\": 30, \"OCTOBER\": 30, \"NOVEMBER\": 30, \"DECEMBER\": 20\n",
    "}\n",
    "\n",
    "# Convert data to DataFrame\n",
    "df = pd.DataFrame(list(data.items()), columns=[\"Month\", \"Value\"])\n",
    "\n",
    "# Convert month names to numerical values\n",
    "month_to_num = {\"JANUARY\": 1, \"FEBRUARY\": 2, \"MARCH\": 3, \"APRIL\": 4, \"MAY\": 5, \"JUNE\": 6,\n",
    "                \"JULY\": 7, \"AUGUST\": 8, \"SEPTEMBER\": 9, \"OCTOBER\": 10, \"NOVEMBER\": 11, \"DECEMBER\": 12}\n",
    "df[\"Month\"] = df[\"Month\"].map(month_to_num)\n",
    "\n",
    "# Fit ARIMA model\n",
    "model = ARIMA(df[\"Value\"], order=(1, 1, 1))  # You may need to adjust order based on your data\n",
    "results = model.fit()\n",
    "\n",
    "# Forecast next month\n",
    "forecast = results.forecast(steps=1)\n",
    "\n",
    "# Extract the forecasted value and round to the nearest integer\n",
    "forecasted_value = round(forecast.values[0])\n",
    "\n",
    "print(\"Forecasted value for the next month:\", forecasted_value)\n",
    "\n",
    "# Forecasted value for the next month: 25"
   ]
  },
  {
   "cell_type": "code",
   "execution_count": 31,
   "metadata": {},
   "outputs": [
    {
     "data": {
      "text/plain": [
       "0      0.000000\n",
       "1     39.998694\n",
       "2     44.682377\n",
       "3     50.662225\n",
       "4     47.940047\n",
       "5     39.429994\n",
       "6     35.710193\n",
       "7     33.418164\n",
       "8     33.458690\n",
       "9     35.303867\n",
       "10    31.128794\n",
       "11    27.870894\n",
       "Name: predicted_mean, dtype: float64"
      ]
     },
     "execution_count": 31,
     "metadata": {},
     "output_type": "execute_result"
    }
   ],
   "source": [
    "r=results.predict(steps=19)\n",
    "r"
   ]
  },
  {
   "cell_type": "code",
   "execution_count": 32,
   "metadata": {},
   "outputs": [
    {
     "data": {
      "text/plain": [
       "-13.18016527240458"
      ]
     },
     "execution_count": 32,
     "metadata": {},
     "output_type": "execute_result"
    }
   ],
   "source": [
    "from sklearn.metrics import mean_squared_error\n",
    "mse=mean_squared_error(df[\"Value\"],r)\n",
    "rmse=-np.sqrt(mse)\n",
    "rmse"
   ]
  }
 ],
 "metadata": {
  "kernelspec": {
   "display_name": "Python 3",
   "language": "python",
   "name": "python3"
  },
  "language_info": {
   "codemirror_mode": {
    "name": "ipython",
    "version": 3
   },
   "file_extension": ".py",
   "mimetype": "text/x-python",
   "name": "python",
   "nbconvert_exporter": "python",
   "pygments_lexer": "ipython3",
   "version": "3.11.5"
  }
 },
 "nbformat": 4,
 "nbformat_minor": 2
}
